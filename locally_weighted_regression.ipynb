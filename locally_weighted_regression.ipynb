{
 "cells": [
  {
   "cell_type": "code",
   "execution_count": 1,
   "id": "027dcd7e",
   "metadata": {},
   "outputs": [],
   "source": [
    "import numpy as np\n",
    "from numpy import ndarray\n",
    "import matplotlib.pyplot as plt\n",
    "import pandas as pd\n",
    "from sklearn.linear_model import SGDRegressor"
   ]
  },
  {
   "cell_type": "code",
   "execution_count": 2,
   "id": "29a114df",
   "metadata": {},
   "outputs": [],
   "source": [
    "X = np.random.randn(1000,1)\n",
    "y = 2*(X**3) + 10 + 4.6*np.random.randn(1000,1)"
   ]
  },
  {
   "cell_type": "code",
   "execution_count": 3,
   "id": "9d9a1294",
   "metadata": {},
   "outputs": [],
   "source": [
    "def calc_w(point: ndarray, X: ndarray, tau: float) -> ndarray:\n",
    "    m = X.shape[0] \n",
    "    \n",
    "    w = np.mat(np.eye(m)) \n",
    "    \n",
    "    for i in range(m): \n",
    "        xi = X[i] \n",
    "        d = (-2 * tau * tau) \n",
    "        w[i, i] = np.exp(np.power((point - xi), 2)/d)\n",
    "        \n",
    "    return w"
   ]
  },
  {
   "cell_type": "markdown",
   "id": "96771f2c",
   "metadata": {},
   "source": [
    "\\Theta = (X^TWX)^{-1} * X^TWY *normal equation*"
   ]
  },
  {
   "cell_type": "markdown",
   "id": "af2c232d",
   "metadata": {},
   "source": [
    "https://towardsdatascience.com/locally-weighted-linear-regression-in-python-3d324108efbf"
   ]
  },
  {
   "cell_type": "code",
   "execution_count": 4,
   "id": "6bdb6039",
   "metadata": {},
   "outputs": [],
   "source": [
    "def predict(X, y, point, tau): \n",
    "    m = X.shape[0] \n",
    "    X_ = np.append(X, np.ones(m).reshape(m,1), axis=1) \n",
    "    \n",
    "    point_ = np.array([point, 1]) \n",
    "    w = wm(point_, X_, tau) \n",
    "    \n",
    "    theta = np.linalg.pinv(X_.T*(w * X_))*(X_.T*(w * y)) \n",
    "    pred = np.dot(point_, theta) \n",
    "    \n",
    "    return theta, pred"
   ]
  },
  {
   "cell_type": "code",
   "execution_count": 5,
   "id": "4d216930",
   "metadata": {},
   "outputs": [],
   "source": [
    "def wm(point, X, tau): \n",
    "    m = X.shape[0] \n",
    "    \n",
    "  # Initialising W as an identity matrix.\n",
    "    w = np.mat(np.eye(m)) \n",
    "    \n",
    "  # Calculating weights for all training examples [x(i)'s].\n",
    "    for i in range(m): \n",
    "        xi = X[i] \n",
    "        d = (-2 * tau * tau) \n",
    "        w[i, i] = np.exp(np.dot((xi-point), (xi-point).T)/d) \n",
    "        \n",
    "    return w"
   ]
  },
  {
   "cell_type": "code",
   "execution_count": 8,
   "id": "ec5ef278",
   "metadata": {},
   "outputs": [],
   "source": [
    "def plot_lwr(X: ndarray, Y: ndarray, tau: float, nval:int):\n",
    "    X_test = np.linspace(-3, 3, nval) \n",
    "    \n",
    "    preds = [predict(X, y, point, tau)[1] for point in X_test] \n",
    "        \n",
    "    X_test = np.array(X_test).reshape(nval,1)\n",
    "    preds = np.array(preds).reshape(nval,1)\n",
    "\n",
    "    plt.plot(X, y, 'b.')\n",
    "    plt.plot(X_test, preds, 'r.') # Predictions in red color.\n",
    "    plt.show()"
   ]
  },
  {
   "cell_type": "code",
   "execution_count": 12,
   "id": "c492bc23",
   "metadata": {},
   "outputs": [
    {
     "data": {
      "image/png": "[encoded data removed]",
      "text/plain": [
       "<Figure size 432x288 with 1 Axes>"
      ]
     },
     "metadata": {
      "needs_background": "light"
     },
     "output_type": "display_data"
    }
   ],
   "source": [
    "plot_lwr(X, y, 0.01, 100)"
   ]
  }
 ],
 "metadata": {
  "kernelspec": {
   "display_name": "Python 3 (ipykernel)",
   "language": "python",
   "name": "python3"
  },
  "language_info": {
   "codemirror_mode": {
    "name": "ipython",
    "version": 3
   },
   "file_extension": ".py",
   "mimetype": "text/x-python",
   "name": "python",
   "nbconvert_exporter": "python",
   "pygments_lexer": "ipython3",
   "version": "3.9.10"
  }
 },
 "nbformat": 4,
 "nbformat_minor": 5
}
